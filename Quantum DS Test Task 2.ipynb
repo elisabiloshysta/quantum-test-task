{
 "cells": [
  {
   "cell_type": "markdown",
   "id": "a1c87bf4",
   "metadata": {},
   "source": [
    "## You have a matrix MxN that represents a map. There are 2 possible states on the map: 1 - islands, 0 - ocean. Your task is to calculate the number of islands in the most effective way. Please write code in Python 3.\n"
   ]
  },
  {
   "cell_type": "code",
   "execution_count": 30,
   "id": "a7cb6f70",
   "metadata": {},
   "outputs": [
    {
     "name": "stdout",
     "output_type": "stream",
     "text": [
      "Enter number of ROWS: 3\n",
      "Enter number of COLUMNS: 4\n"
     ]
    }
   ],
   "source": [
    "while True:\n",
    "    try:\n",
    "        num_rows = int(input(\"Enter number of ROWS: \"))\n",
    "    except ValueError:\n",
    "        print(\"Please enter a valid integer num_rows >= 1\")\n",
    "        continue\n",
    "    if num_rows >= 1:\n",
    "        #print(f'You entered: {num_rows}')\n",
    "        break\n",
    "    else:\n",
    "        print('Number of ROWS must be equal or bigger than 1')\n",
    "        \n",
    "while True:\n",
    "    try:\n",
    "        num_cols = int(input(\"Enter number of COLUMNS: \"))\n",
    "    except ValueError:\n",
    "        print(\"Please enter a valid integer n >= 1\")\n",
    "        continue\n",
    "    if num_cols >= 1:\n",
    "        #print(f'You entered: {num_cols}')\n",
    "        break\n",
    "    else:\n",
    "        print('Number of COLUMNS must be equal or bigger than 1')"
   ]
  },
  {
   "cell_type": "code",
   "execution_count": 31,
   "id": "8595e32d",
   "metadata": {
    "scrolled": true
   },
   "outputs": [
    {
     "name": "stdout",
     "output_type": "stream",
     "text": [
      "[[1 0 0 1]\n",
      " [1 1 1 0]\n",
      " [1 1 0 0]]\n"
     ]
    }
   ],
   "source": [
    "import numpy as np\n",
    "\n",
    "matrix = np.random.randint(2, size=(num_rows, num_cols))\n",
    "\n",
    "print(matrix)"
   ]
  },
  {
   "cell_type": "code",
   "execution_count": 32,
   "id": "6468ea40",
   "metadata": {},
   "outputs": [
    {
     "data": {
      "text/plain": [
       "7"
      ]
     },
     "execution_count": 32,
     "metadata": {},
     "output_type": "execute_result"
    }
   ],
   "source": [
    "\n",
    "np.sum(matrix)"
   ]
  },
  {
   "cell_type": "code",
   "execution_count": null,
   "id": "436d9227",
   "metadata": {},
   "outputs": [],
   "source": []
  },
  {
   "cell_type": "code",
   "execution_count": null,
   "id": "cb3ceb6d",
   "metadata": {},
   "outputs": [],
   "source": []
  }
 ],
 "metadata": {
  "kernelspec": {
   "display_name": "Python 3 (ipykernel)",
   "language": "python",
   "name": "python3"
  },
  "language_info": {
   "codemirror_mode": {
    "name": "ipython",
    "version": 3
   },
   "file_extension": ".py",
   "mimetype": "text/x-python",
   "name": "python",
   "nbconvert_exporter": "python",
   "pygments_lexer": "ipython3",
   "version": "3.10.6"
  }
 },
 "nbformat": 4,
 "nbformat_minor": 5
}
