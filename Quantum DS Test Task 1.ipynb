{
 "cells": [
  {
   "cell_type": "markdown",
   "id": "b0032b80",
   "metadata": {},
   "source": [
    "### You have a positive integer number N as an input. Please write a program in Python 3 that calculates the sum in range 1 and N.\n",
    "### Limitations:\n",
    "### N <= 10^25;\n",
    "### Execution time: 0.1 seconds."
   ]
  },
  {
   "cell_type": "code",
   "execution_count": 72,
   "id": "6ffd93cb",
   "metadata": {},
   "outputs": [
    {
     "name": "stdout",
     "output_type": "stream",
     "text": [
      "Enter an integer N > 0: 100000000\n",
      "You entered: 100000000\n",
      "Sum_formula = 5000000050000000.0\n",
      "Running time with formula = 0.000020 seconds\n",
      "Sum_forloop = 5000000050000000\n",
      "Running time with forloop = 3.700206 seconds\n"
     ]
    }
   ],
   "source": [
    "import time\n",
    "\n",
    "# counting the sum in the most effective way \n",
    "def sum_formula(N):\n",
    "    start_time = time.time()\n",
    "    sum = 0\n",
    "    sum = ((1+N)/2)*N\n",
    "    print(\"Sum_formula = \" + str(sum))\n",
    "    run_time = time.time()- start_time\n",
    "    print(\"Running time with formula = {:.6f} seconds\".format(run_time))\n",
    "\n",
    "# counting the sum using for-loop\n",
    "def sum_forloop(N):\n",
    "    start_time = time.time()\n",
    "    sum = 0\n",
    "    for i in range (1, N+1):\n",
    "        sum += i\n",
    "    print(\"Sum_forloop = \" + str(sum))\n",
    "    run_time = time.time()- start_time\n",
    "    print(\"Running time with forloop = {:.6f} seconds\".format(run_time))\n",
    "    \n",
    "num = 0\n",
    "\n",
    "while True:\n",
    "    try:\n",
    "        num = int(input(\"Enter an integer N > 0: \"))\n",
    "    except ValueError:\n",
    "        print(\"Oops, seems like the value you entered for N is not an integer at all. Please try again.\")\n",
    "        continue\n",
    "    if num >= 1 and num <= 10**25:\n",
    "        print(f'You entered: {num}')\n",
    "        break\n",
    "    else:\n",
    "        print('The integer must be in the range 1-10^25')\n",
    "        \n",
    "sum_formula(num)\n",
    "sum_forloop(num)"
   ]
  },
  {
   "cell_type": "code",
   "execution_count": null,
   "id": "0dacf0b9",
   "metadata": {},
   "outputs": [],
   "source": []
  }
 ],
 "metadata": {
  "kernelspec": {
   "display_name": "Python 3 (ipykernel)",
   "language": "python",
   "name": "python3"
  },
  "language_info": {
   "codemirror_mode": {
    "name": "ipython",
    "version": 3
   },
   "file_extension": ".py",
   "mimetype": "text/x-python",
   "name": "python",
   "nbconvert_exporter": "python",
   "pygments_lexer": "ipython3",
   "version": "3.10.6"
  }
 },
 "nbformat": 4,
 "nbformat_minor": 5
}
